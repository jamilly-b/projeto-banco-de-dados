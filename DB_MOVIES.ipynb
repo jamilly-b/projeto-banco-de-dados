{
 "cells": [
  {
   "attachments": {},
   "cell_type": "markdown",
   "metadata": {},
   "source": [
    "Imports"
   ]
  },
  {
   "cell_type": "code",
   "execution_count": 13,
   "metadata": {},
   "outputs": [],
   "source": [
    "import sqlite3\n",
    "import pandas as pd"
   ]
  },
  {
   "attachments": {},
   "cell_type": "markdown",
   "metadata": {},
   "source": [
    "Criando o banco e as tabelas"
   ]
  },
  {
   "cell_type": "code",
   "execution_count": 14,
   "metadata": {},
   "outputs": [],
   "source": [
    "conn = sqlite3.connect('db_avaliacao_filmes.db')\n",
    "cursor = conn.cursor()"
   ]
  },
  {
   "cell_type": "code",
   "execution_count": 15,
   "metadata": {},
   "outputs": [
    {
     "data": {
      "text/plain": [
       "<sqlite3.Cursor at 0x7f66c4618840>"
      ]
     },
     "execution_count": 15,
     "metadata": {},
     "output_type": "execute_result"
    }
   ],
   "source": [
    "cursor.execute('''\n",
    "CREATE TABLE IF NOT EXISTS Filme (\n",
    "id_filme INTEGER PRIMARY KEY,\n",
    "nome_filme VARCHAR(100),\n",
    "genero_filme VARCHAR(30),\n",
    "imdb_link VARCHAR(1000),\n",
    "img_link VARCHAR(1000),\n",
    "popularidade_filme INT,\n",
    "duracao_filme FLOAT,\n",
    "sinopse VARCHAR(1000),\n",
    "diretor_filme VARCHAR(50),\n",
    "ano_lancamento INT,\n",
    "nota_filme FLOAT,\n",
    "produtora_filme VARCHAR(100)\n",
    ")\n",
    "''')"
   ]
  },
  {
   "cell_type": "code",
   "execution_count": 16,
   "metadata": {},
   "outputs": [
    {
     "data": {
      "text/plain": [
       "<sqlite3.Cursor at 0x7f66c4618840>"
      ]
     },
     "execution_count": 16,
     "metadata": {},
     "output_type": "execute_result"
    }
   ],
   "source": [
    "cursor.execute('''\n",
    "CREATE TABLE IF NOT EXISTS Usuario (\n",
    "id_usuario INTEGER PRIMARY KEY AUTOINCREMENT,\n",
    "username VARCHAR(100)\n",
    ")\n",
    "''')"
   ]
  },
  {
   "cell_type": "code",
   "execution_count": 17,
   "metadata": {},
   "outputs": [
    {
     "data": {
      "text/plain": [
       "<sqlite3.Cursor at 0x7f66c4618840>"
      ]
     },
     "execution_count": 17,
     "metadata": {},
     "output_type": "execute_result"
    }
   ],
   "source": [
    "cursor.execute('''\n",
    "CREATE TABLE IF NOT EXISTS Avaliacao (\n",
    "id_avaliacao INTEGER PRIMARY KEY AUTOINCREMENT,\n",
    "id_usuario INTEGER,\n",
    "fk_filme_id INTEGER,\n",
    "nota_avaliacao FLOAT,\n",
    "FOREIGN KEY (id_usuario) REFERENCES Usuario (id_usuario),\n",
    "FOREIGN KEY (fk_filme_id) REFERENCES Filme (id_filme)\n",
    ")\n",
    "''')"
   ]
  },
  {
   "cell_type": "code",
   "execution_count": 18,
   "metadata": {},
   "outputs": [
    {
     "data": {
      "text/plain": [
       "<sqlite3.Cursor at 0x7f66c4618840>"
      ]
     },
     "execution_count": 18,
     "metadata": {},
     "output_type": "execute_result"
    }
   ],
   "source": [
    "cursor.execute('''\n",
    "CREATE TABLE IF NOT EXISTS Ator (\n",
    "id_ator INT PRIMARY KEY,\n",
    "nome_ator VARCHAR(100)\n",
    ")\n",
    "''')"
   ]
  },
  {
   "cell_type": "code",
   "execution_count": 19,
   "metadata": {},
   "outputs": [
    {
     "data": {
      "text/plain": [
       "<sqlite3.Cursor at 0x7f66c4618840>"
      ]
     },
     "execution_count": 19,
     "metadata": {},
     "output_type": "execute_result"
    }
   ],
   "source": [
    "cursor.execute('''\n",
    "CREATE TABLE IF NOT EXISTS filme_ator (\n",
    "id_filme INT,\n",
    "id_ator INT,\n",
    "FOREIGN KEY (id_filme) REFERENCES Filme (id_filme),\n",
    "FOREIGN KEY (id_ator) REFERENCES Ator (id_ator)\n",
    ")\n",
    "''')"
   ]
  },
  {
   "cell_type": "code",
   "execution_count": 20,
   "metadata": {},
   "outputs": [
    {
     "data": {
      "text/plain": [
       "<sqlite3.Cursor at 0x7f66c4618840>"
      ]
     },
     "execution_count": 20,
     "metadata": {},
     "output_type": "execute_result"
    }
   ],
   "source": [
    "cursor.execute('''\n",
    "CREATE TABLE IF NOT EXISTS idioma (\n",
    "id_idioma INT PRIMARY KEY,\n",
    "nome_idioma VARCHAR(100)\n",
    ")\n",
    "''')"
   ]
  },
  {
   "cell_type": "code",
   "execution_count": 21,
   "metadata": {},
   "outputs": [],
   "source": [
    "cursor.execute('''\n",
    "CREATE TABLE IF NOT EXISTS filme_idioma (\n",
    "id_filme INT,\n",
    "id_idioma INT,\n",
    "FOREIGN KEY (id_filme) REFERENCES Filme (id_filme),\n",
    "FOREIGN KEY (id_idioma) REFERENCES idioma (id_idioma)\n",
    ")\n",
    "''')\n",
    "\n",
    "\n",
    "conn.commit()"
   ]
  },
  {
   "attachments": {},
   "cell_type": "markdown",
   "metadata": {},
   "source": [
    "Populando o banco"
   ]
  },
  {
   "cell_type": "code",
   "execution_count": 22,
   "metadata": {},
   "outputs": [
    {
     "data": {
      "text/plain": [
       "20"
      ]
     },
     "execution_count": 22,
     "metadata": {},
     "output_type": "execute_result"
    }
   ],
   "source": [
    "filmes_df = pd.read_csv('filmes.csv')\n",
    "filmes_df.to_sql('Filme', conn, if_exists='append', index=False)\n",
    "\n",
    "atores_df = pd.read_csv('atores.csv')\n",
    "atores_df.to_sql('Ator', conn, if_exists='append', index=False)\n",
    "\n",
    "usuarios_df = pd.read_csv('usuarios.csv')\n",
    "usuarios_df.to_sql('Usuario', conn, if_exists='append', index=False)\n",
    "\n",
    "avaliacoes_df = pd.read_csv('avaliacoes.csv')\n",
    "avaliacoes_df.to_sql('Avaliacao', conn, if_exists='append', index=False)\n",
    "\n",
    "filme_ator_df = pd.read_csv('filme_ator.csv')\n",
    "filme_ator_df.to_sql('filme_ator', conn, if_exists='append', index=False)\n",
    "\n",
    "filme_idioma_df = pd.read_csv('filme_idioma.csv')\n",
    "filme_idioma_df.to_sql('filme_idioma', conn, if_exists='append', index=False)"
   ]
  },
  {
   "cell_type": "code",
   "execution_count": 23,
   "metadata": {},
   "outputs": [],
   "source": [
    "conn.commit()"
   ]
  },
  {
   "attachments": {},
   "cell_type": "markdown",
   "metadata": {},
   "source": [
    "Conectando com o banco e fazendo queries"
   ]
  },
  {
   "cell_type": "code",
   "execution_count": 24,
   "metadata": {},
   "outputs": [],
   "source": [
    "conn = sqlite3.connect('db_avaliacao_filmes.db')"
   ]
  },
  {
   "cell_type": "code",
   "execution_count": 26,
   "metadata": {},
   "outputs": [
    {
     "name": "stdout",
     "output_type": "stream",
     "text": [
      "    id_usuario username  id_filme   \n",
      "0            1    user1         1  \\\n",
      "1            2    user2         2   \n",
      "2            3    user3         3   \n",
      "3            4    user4         4   \n",
      "4            5    user5         5   \n",
      "5            6    user6         6   \n",
      "6            7    user7         7   \n",
      "7            8    user8         8   \n",
      "8            9    user9         9   \n",
      "9           10   user10        10   \n",
      "10          11   user11        11   \n",
      "11          12   user12        12   \n",
      "12          13   user13        13   \n",
      "13          14   user14        14   \n",
      "14          15   user15        15   \n",
      "15          16   user16        16   \n",
      "16          17   user17        17   \n",
      "17          18   user18        18   \n",
      "18          19   user19        19   \n",
      "19          20   user20        20   \n",
      "\n",
      "                                           nome_filme genero_filme   \n",
      "0                            The Shawshank Redemption        Drama  \\\n",
      "1                                       The Godfather        Crime   \n",
      "2                                     The Dark Knight       Action   \n",
      "3                                        Pulp Fiction        Crime   \n",
      "4                                          Fight Club        Drama   \n",
      "5                                        Forrest Gump        Drama   \n",
      "6                                           Inception       Action   \n",
      "7                                          The Matrix       Action   \n",
      "8   The Lord of the Rings: The Fellowship of the Ring    Adventure   \n",
      "9                                        The Avengers       Action   \n",
      "10                                       Interstellar    Adventure   \n",
      "11                                          Gladiator       Action   \n",
      "12                           The Silence of the Lambs        Crime   \n",
      "13                                      The Lion King    Animation   \n",
      "14                                       The Departed        Crime   \n",
      "15                                   Schindler's List    Biography   \n",
      "16                                       The Prestige      Mystery   \n",
      "17                                         Braveheart    Biography   \n",
      "18                                         Goodfellas        Crime   \n",
      "19                                         Casablanca        Drama   \n",
      "\n",
      "                                imdb_link   \n",
      "0   https://www.imdb.com/title/tt0111161/  \\\n",
      "1   https://www.imdb.com/title/tt0068646/   \n",
      "2   https://www.imdb.com/title/tt0468569/   \n",
      "3   https://www.imdb.com/title/tt0110912/   \n",
      "4   https://www.imdb.com/title/tt0137523/   \n",
      "5   https://www.imdb.com/title/tt0109830/   \n",
      "6   https://www.imdb.com/title/tt1375666/   \n",
      "7   https://www.imdb.com/title/tt0133093/   \n",
      "8   https://www.imdb.com/title/tt0120737/   \n",
      "9   https://www.imdb.com/title/tt0848228/   \n",
      "10  https://www.imdb.com/title/tt0816692/   \n",
      "11  https://www.imdb.com/title/tt0172495/   \n",
      "12  https://www.imdb.com/title/tt0102926/   \n",
      "13  https://www.imdb.com/title/tt0110357/   \n",
      "14  https://www.imdb.com/title/tt0407887/   \n",
      "15  https://www.imdb.com/title/tt0211915/   \n",
      "16  https://www.imdb.com/title/tt0482571/   \n",
      "17  https://www.imdb.com/title/tt0112573/   \n",
      "18  https://www.imdb.com/title/tt0099685/   \n",
      "19  https://www.imdb.com/title/tt0034583/   \n",
      "\n",
      "                               img_link  popularidade_filme  duracao_filme   \n",
      "0    https://www.example.com/image1.jpg                 9.3          142.0  \\\n",
      "1    https://www.example.com/image2.jpg                 9.2          175.0   \n",
      "2    https://www.example.com/image3.jpg                 9.0          152.0   \n",
      "3    https://www.example.com/image4.jpg                 8.9          154.0   \n",
      "4    https://www.example.com/image5.jpg                 8.8          139.0   \n",
      "5    https://www.example.com/image6.jpg                 8.8          142.0   \n",
      "6    https://www.example.com/image7.jpg                 8.7          148.0   \n",
      "7    https://www.example.com/image8.jpg                 8.7          136.0   \n",
      "8    https://www.example.com/image9.jpg                 8.7          178.0   \n",
      "9   https://www.example.com/image10.jpg                 8.6          143.0   \n",
      "10  https://www.example.com/image11.jpg                 8.6          169.0   \n",
      "11  https://www.example.com/image12.jpg                 8.5          155.0   \n",
      "12  https://www.example.com/image13.jpg                 8.6          118.0   \n",
      "13  https://www.example.com/image14.jpg                 8.5           88.0   \n",
      "14  https://www.example.com/image15.jpg                 8.5          151.0   \n",
      "15  https://www.example.com/image16.jpg                 8.5          195.0   \n",
      "16  https://www.example.com/image17.jpg                 8.5          130.0   \n",
      "17  https://www.example.com/image18.jpg                 8.3          177.0   \n",
      "18  https://www.example.com/image19.jpg                 8.2          146.0   \n",
      "19  https://www.example.com/image20.jpg                 8.5          102.0   \n",
      "\n",
      "                                              sinopse   \n",
      "0   Two imprisoned men bond over several years, fi...  \\\n",
      "1   The aging patriarch of an organized crime dyna...   \n",
      "2   When the menace known as The Joker wreaks havo...   \n",
      "3   The lives of two mob hitmen, a boxer, a gangst...   \n",
      "4   An insomniac office worker and a devil-may-car...   \n",
      "5   The presidencies of Kennedy and Johnson, the e...   \n",
      "6   A thief who steals corporate secrets through t...   \n",
      "7   When a beautiful stranger leads computer hacke...   \n",
      "8   A meek Hobbit from the Shire and eight compani...   \n",
      "9   Earth's mightiest heroes must come together an...   \n",
      "10  A team of explorers travel through a wormhole ...   \n",
      "11  A former Roman General sets out to exact venge...   \n",
      "12  A young F.B.I. cadet must confide in an incarc...   \n",
      "13  Lion prince Simba and his father are targeted ...   \n",
      "14  An undercover cop and a mole in the police att...   \n",
      "15  In German-occupied Poland during World War II,...   \n",
      "16  After a tragic accident, two stage magicians e...   \n",
      "17  Scottish warrior William Wallace leads his cou...   \n",
      "18  The story of Henry Hill and his life in the mo...   \n",
      "19  A cynical nightclub owner protects an old flam...   \n",
      "\n",
      "                      diretor_filme  ano_lancamento  nota_filme   \n",
      "0                    Frank Darabont            1994         9.3  \\\n",
      "1              Francis Ford Coppola            1972         9.2   \n",
      "2                 Christopher Nolan            2008         9.0   \n",
      "3                 Quentin Tarantino            1994         8.9   \n",
      "4                     David Fincher            1999         8.8   \n",
      "5                   Robert Zemeckis            1994         8.8   \n",
      "6                 Christopher Nolan            2010         8.7   \n",
      "7   Lana Wachowski, Lilly Wachowski            1999         8.7   \n",
      "8                     Peter Jackson            2001         8.7   \n",
      "9                       Joss Whedon            2012         8.6   \n",
      "10                Christopher Nolan            2014         8.6   \n",
      "11                     Ridley Scott            2000         8.5   \n",
      "12                   Jonathan Demme            1991         8.6   \n",
      "13        Roger Allers, Rob Minkoff            1994         8.5   \n",
      "14                  Martin Scorsese            2006         8.5   \n",
      "15                 Steven Spielberg            1993         8.5   \n",
      "16                Christopher Nolan            2006         8.5   \n",
      "17                       Mel Gibson            1995         8.3   \n",
      "18                  Martin Scorsese            1990         8.2   \n",
      "19                   Michael Curtiz            1942         8.5   \n",
      "\n",
      "         produtora_filme                           atores idiomas   \n",
      "0      Columbia Pictures       Tim Robbins,Morgan Freeman    None  \\\n",
      "1     Paramount Pictures         Bob Gunton,Marlon Brando    None   \n",
      "2           Warner Bros.             Al Pacino,James Caan    None   \n",
      "3                Miramax     Robert Duvall,Christian Bale    None   \n",
      "4       20th Century Fox       Heath Ledger,Aaron Eckhart    None   \n",
      "5     Paramount Pictures  John Travolta,Samuel L. Jackson    None   \n",
      "6           Warner Bros.       Bruce Willis,Edward Norton    None   \n",
      "7           Warner Bros.   Brad Pitt,Helena Bonham Carter    None   \n",
      "8        New Line Cinema           Tom Hanks,Robin Wright    None   \n",
      "9         Marvel Studios    Gary Sinise,Leonardo DiCaprio    None   \n",
      "10    Paramount Pictures                             None    None   \n",
      "11            DreamWorks                             None    None   \n",
      "12        Orion Pictures                             None    None   \n",
      "13  Walt Disney Pictures                             None    None   \n",
      "14          Warner Bros.                             None    None   \n",
      "15    Universal Pictures                             None    None   \n",
      "16   Touchstone Pictures                             None    None   \n",
      "17    Paramount Pictures                             None    None   \n",
      "18          Warner Bros.                             None    None   \n",
      "19          Warner Bros.                             None    None   \n",
      "\n",
      "    nota_avaliacao  \n",
      "0              9.0  \n",
      "1              8.5  \n",
      "2              7.5  \n",
      "3              8.0  \n",
      "4              9.5  \n",
      "5              6.5  \n",
      "6              8.5  \n",
      "7              7.0  \n",
      "8              9.0  \n",
      "9              8.0  \n",
      "10             9.5  \n",
      "11             8.0  \n",
      "12             7.5  \n",
      "13             9.0  \n",
      "14             8.5  \n",
      "15             7.0  \n",
      "16             9.0  \n",
      "17             8.0  \n",
      "18             8.5  \n",
      "19             7.5  \n"
     ]
    }
   ],
   "source": [
    "query = '''\n",
    "SELECT U.id_usuario, U.username, F.id_filme, F.nome_filme, F.genero_filme, F.imdb_link, F.img_link, F.popularidade_filme,\n",
    "F.duracao_filme, F.sinopse, F.diretor_filme, F.ano_lancamento, F.nota_filme, F.produtora_filme,\n",
    "GROUP_CONCAT(A.nome_ator) AS atores,\n",
    "GROUP_CONCAT(I.nome_idioma) AS idiomas,\n",
    "MAX(AV.nota_avaliacao) AS nota_avaliacao\n",
    "FROM Usuario U\n",
    "INNER JOIN Avaliacao AV ON U.id_usuario = AV.id_usuario\n",
    "INNER JOIN Filme F ON AV.fk_filme_id = F.id_filme\n",
    "LEFT JOIN filme_ator FA ON F.id_filme = FA.id_filme\n",
    "LEFT JOIN Ator A ON FA.id_ator = A.id_ator\n",
    "LEFT JOIN filme_idioma FI ON F.id_filme = FI.id_filme\n",
    "LEFT JOIN idioma I ON FI.id_idioma = I.id_idioma\n",
    "GROUP BY U.id_usuario, F.id_filme\n",
    "'''\n",
    "\n",
    "df = pd.read_sql_query(query, conn)\n",
    "\n",
    "print(df)"
   ]
  },
  {
   "attachments": {},
   "cell_type": "markdown",
   "metadata": {},
   "source": [
    "Filmes lançados em 1999"
   ]
  },
  {
   "cell_type": "code",
   "execution_count": 27,
   "metadata": {},
   "outputs": [
    {
     "name": "stdout",
     "output_type": "stream",
     "text": [
      "   id_filme  nome_filme genero_filme                              imdb_link   \n",
      "0         5  Fight Club        Drama  https://www.imdb.com/title/tt0137523/  \\\n",
      "1         8  The Matrix       Action  https://www.imdb.com/title/tt0133093/   \n",
      "\n",
      "                             img_link  popularidade_filme  duracao_filme   \n",
      "0  https://www.example.com/image5.jpg                 8.8          139.0  \\\n",
      "1  https://www.example.com/image8.jpg                 8.7          136.0   \n",
      "\n",
      "                                             sinopse   \n",
      "0  An insomniac office worker and a devil-may-car...  \\\n",
      "1  When a beautiful stranger leads computer hacke...   \n",
      "\n",
      "                     diretor_filme  ano_lancamento  nota_filme   \n",
      "0                    David Fincher            1999         8.8  \\\n",
      "1  Lana Wachowski, Lilly Wachowski            1999         8.7   \n",
      "\n",
      "    produtora_filme  \n",
      "0  20th Century Fox  \n",
      "1      Warner Bros.  \n"
     ]
    }
   ],
   "source": [
    "query1 = \"SELECT * FROM Filme WHERE ano_lancamento = 1999\"\n",
    "df1 = pd.read_sql_query(query1, conn)\n",
    "print(df1)"
   ]
  },
  {
   "attachments": {},
   "cell_type": "markdown",
   "metadata": {},
   "source": [
    "Filmes com nota maior ou igual a 8.0"
   ]
  },
  {
   "cell_type": "code",
   "execution_count": 28,
   "metadata": {},
   "outputs": [
    {
     "name": "stdout",
     "output_type": "stream",
     "text": [
      "    id_filme                                         nome_filme genero_filme   \n",
      "0          1                           The Shawshank Redemption        Drama  \\\n",
      "1          2                                      The Godfather        Crime   \n",
      "2          3                                    The Dark Knight       Action   \n",
      "3          4                                       Pulp Fiction        Crime   \n",
      "4          5                                         Fight Club        Drama   \n",
      "5          6                                       Forrest Gump        Drama   \n",
      "6          7                                          Inception       Action   \n",
      "7          8                                         The Matrix       Action   \n",
      "8          9  The Lord of the Rings: The Fellowship of the Ring    Adventure   \n",
      "9         10                                       The Avengers       Action   \n",
      "10        11                                       Interstellar    Adventure   \n",
      "11        12                                          Gladiator       Action   \n",
      "12        13                           The Silence of the Lambs        Crime   \n",
      "13        14                                      The Lion King    Animation   \n",
      "14        15                                       The Departed        Crime   \n",
      "15        16                                   Schindler's List    Biography   \n",
      "16        17                                       The Prestige      Mystery   \n",
      "17        18                                         Braveheart    Biography   \n",
      "18        19                                         Goodfellas        Crime   \n",
      "19        20                                         Casablanca        Drama   \n",
      "\n",
      "                                imdb_link   \n",
      "0   https://www.imdb.com/title/tt0111161/  \\\n",
      "1   https://www.imdb.com/title/tt0068646/   \n",
      "2   https://www.imdb.com/title/tt0468569/   \n",
      "3   https://www.imdb.com/title/tt0110912/   \n",
      "4   https://www.imdb.com/title/tt0137523/   \n",
      "5   https://www.imdb.com/title/tt0109830/   \n",
      "6   https://www.imdb.com/title/tt1375666/   \n",
      "7   https://www.imdb.com/title/tt0133093/   \n",
      "8   https://www.imdb.com/title/tt0120737/   \n",
      "9   https://www.imdb.com/title/tt0848228/   \n",
      "10  https://www.imdb.com/title/tt0816692/   \n",
      "11  https://www.imdb.com/title/tt0172495/   \n",
      "12  https://www.imdb.com/title/tt0102926/   \n",
      "13  https://www.imdb.com/title/tt0110357/   \n",
      "14  https://www.imdb.com/title/tt0407887/   \n",
      "15  https://www.imdb.com/title/tt0211915/   \n",
      "16  https://www.imdb.com/title/tt0482571/   \n",
      "17  https://www.imdb.com/title/tt0112573/   \n",
      "18  https://www.imdb.com/title/tt0099685/   \n",
      "19  https://www.imdb.com/title/tt0034583/   \n",
      "\n",
      "                               img_link  popularidade_filme  duracao_filme   \n",
      "0    https://www.example.com/image1.jpg                 9.3          142.0  \\\n",
      "1    https://www.example.com/image2.jpg                 9.2          175.0   \n",
      "2    https://www.example.com/image3.jpg                 9.0          152.0   \n",
      "3    https://www.example.com/image4.jpg                 8.9          154.0   \n",
      "4    https://www.example.com/image5.jpg                 8.8          139.0   \n",
      "5    https://www.example.com/image6.jpg                 8.8          142.0   \n",
      "6    https://www.example.com/image7.jpg                 8.7          148.0   \n",
      "7    https://www.example.com/image8.jpg                 8.7          136.0   \n",
      "8    https://www.example.com/image9.jpg                 8.7          178.0   \n",
      "9   https://www.example.com/image10.jpg                 8.6          143.0   \n",
      "10  https://www.example.com/image11.jpg                 8.6          169.0   \n",
      "11  https://www.example.com/image12.jpg                 8.5          155.0   \n",
      "12  https://www.example.com/image13.jpg                 8.6          118.0   \n",
      "13  https://www.example.com/image14.jpg                 8.5           88.0   \n",
      "14  https://www.example.com/image15.jpg                 8.5          151.0   \n",
      "15  https://www.example.com/image16.jpg                 8.5          195.0   \n",
      "16  https://www.example.com/image17.jpg                 8.5          130.0   \n",
      "17  https://www.example.com/image18.jpg                 8.3          177.0   \n",
      "18  https://www.example.com/image19.jpg                 8.2          146.0   \n",
      "19  https://www.example.com/image20.jpg                 8.5          102.0   \n",
      "\n",
      "                                              sinopse   \n",
      "0   Two imprisoned men bond over several years, fi...  \\\n",
      "1   The aging patriarch of an organized crime dyna...   \n",
      "2   When the menace known as The Joker wreaks havo...   \n",
      "3   The lives of two mob hitmen, a boxer, a gangst...   \n",
      "4   An insomniac office worker and a devil-may-car...   \n",
      "5   The presidencies of Kennedy and Johnson, the e...   \n",
      "6   A thief who steals corporate secrets through t...   \n",
      "7   When a beautiful stranger leads computer hacke...   \n",
      "8   A meek Hobbit from the Shire and eight compani...   \n",
      "9   Earth's mightiest heroes must come together an...   \n",
      "10  A team of explorers travel through a wormhole ...   \n",
      "11  A former Roman General sets out to exact venge...   \n",
      "12  A young F.B.I. cadet must confide in an incarc...   \n",
      "13  Lion prince Simba and his father are targeted ...   \n",
      "14  An undercover cop and a mole in the police att...   \n",
      "15  In German-occupied Poland during World War II,...   \n",
      "16  After a tragic accident, two stage magicians e...   \n",
      "17  Scottish warrior William Wallace leads his cou...   \n",
      "18  The story of Henry Hill and his life in the mo...   \n",
      "19  A cynical nightclub owner protects an old flam...   \n",
      "\n",
      "                      diretor_filme  ano_lancamento  nota_filme   \n",
      "0                    Frank Darabont            1994         9.3  \\\n",
      "1              Francis Ford Coppola            1972         9.2   \n",
      "2                 Christopher Nolan            2008         9.0   \n",
      "3                 Quentin Tarantino            1994         8.9   \n",
      "4                     David Fincher            1999         8.8   \n",
      "5                   Robert Zemeckis            1994         8.8   \n",
      "6                 Christopher Nolan            2010         8.7   \n",
      "7   Lana Wachowski, Lilly Wachowski            1999         8.7   \n",
      "8                     Peter Jackson            2001         8.7   \n",
      "9                       Joss Whedon            2012         8.6   \n",
      "10                Christopher Nolan            2014         8.6   \n",
      "11                     Ridley Scott            2000         8.5   \n",
      "12                   Jonathan Demme            1991         8.6   \n",
      "13        Roger Allers, Rob Minkoff            1994         8.5   \n",
      "14                  Martin Scorsese            2006         8.5   \n",
      "15                 Steven Spielberg            1993         8.5   \n",
      "16                Christopher Nolan            2006         8.5   \n",
      "17                       Mel Gibson            1995         8.3   \n",
      "18                  Martin Scorsese            1990         8.2   \n",
      "19                   Michael Curtiz            1942         8.5   \n",
      "\n",
      "         produtora_filme  \n",
      "0      Columbia Pictures  \n",
      "1     Paramount Pictures  \n",
      "2           Warner Bros.  \n",
      "3                Miramax  \n",
      "4       20th Century Fox  \n",
      "5     Paramount Pictures  \n",
      "6           Warner Bros.  \n",
      "7           Warner Bros.  \n",
      "8        New Line Cinema  \n",
      "9         Marvel Studios  \n",
      "10    Paramount Pictures  \n",
      "11            DreamWorks  \n",
      "12        Orion Pictures  \n",
      "13  Walt Disney Pictures  \n",
      "14          Warner Bros.  \n",
      "15    Universal Pictures  \n",
      "16   Touchstone Pictures  \n",
      "17    Paramount Pictures  \n",
      "18          Warner Bros.  \n",
      "19          Warner Bros.  \n"
     ]
    }
   ],
   "source": [
    "query2 = \"SELECT * FROM Filme WHERE nota_filme >= 8.0\"\n",
    "df2 = pd.read_sql_query(query2, conn)\n",
    "print(df2)"
   ]
  },
  {
   "attachments": {},
   "cell_type": "markdown",
   "metadata": {},
   "source": [
    "Filmes do gênero Ação"
   ]
  },
  {
   "cell_type": "code",
   "execution_count": 30,
   "metadata": {},
   "outputs": [
    {
     "name": "stdout",
     "output_type": "stream",
     "text": [
      "   id_filme       nome_filme genero_filme   \n",
      "0         3  The Dark Knight       Action  \\\n",
      "1         7        Inception       Action   \n",
      "2         8       The Matrix       Action   \n",
      "3        10     The Avengers       Action   \n",
      "4        12        Gladiator       Action   \n",
      "\n",
      "                               imdb_link                             img_link   \n",
      "0  https://www.imdb.com/title/tt0468569/   https://www.example.com/image3.jpg  \\\n",
      "1  https://www.imdb.com/title/tt1375666/   https://www.example.com/image7.jpg   \n",
      "2  https://www.imdb.com/title/tt0133093/   https://www.example.com/image8.jpg   \n",
      "3  https://www.imdb.com/title/tt0848228/  https://www.example.com/image10.jpg   \n",
      "4  https://www.imdb.com/title/tt0172495/  https://www.example.com/image12.jpg   \n",
      "\n",
      "   popularidade_filme  duracao_filme   \n",
      "0                 9.0          152.0  \\\n",
      "1                 8.7          148.0   \n",
      "2                 8.7          136.0   \n",
      "3                 8.6          143.0   \n",
      "4                 8.5          155.0   \n",
      "\n",
      "                                             sinopse   \n",
      "0  When the menace known as The Joker wreaks havo...  \\\n",
      "1  A thief who steals corporate secrets through t...   \n",
      "2  When a beautiful stranger leads computer hacke...   \n",
      "3  Earth's mightiest heroes must come together an...   \n",
      "4  A former Roman General sets out to exact venge...   \n",
      "\n",
      "                     diretor_filme  ano_lancamento  nota_filme produtora_filme  \n",
      "0                Christopher Nolan            2008         9.0    Warner Bros.  \n",
      "1                Christopher Nolan            2010         8.7    Warner Bros.  \n",
      "2  Lana Wachowski, Lilly Wachowski            1999         8.7    Warner Bros.  \n",
      "3                      Joss Whedon            2012         8.6  Marvel Studios  \n",
      "4                     Ridley Scott            2000         8.5      DreamWorks  \n"
     ]
    }
   ],
   "source": [
    "query3 = \"SELECT * FROM Filme WHERE genero_filme = 'Action'\"\n",
    "df3 = pd.read_sql_query(query3, conn)\n",
    "print(df3)"
   ]
  },
  {
   "cell_type": "code",
   "execution_count": null,
   "metadata": {},
   "outputs": [],
   "source": [
    "conn.close()"
   ]
  }
 ],
 "metadata": {
  "kernelspec": {
   "display_name": "Python 3",
   "language": "python",
   "name": "python3"
  },
  "language_info": {
   "codemirror_mode": {
    "name": "ipython",
    "version": 3
   },
   "file_extension": ".py",
   "mimetype": "text/x-python",
   "name": "python",
   "nbconvert_exporter": "python",
   "pygments_lexer": "ipython3",
   "version": "3.10.4"
  },
  "orig_nbformat": 4
 },
 "nbformat": 4,
 "nbformat_minor": 2
}
